{
 "cells": [
  {
   "cell_type": "code",
   "execution_count": 1,
   "metadata": {},
   "outputs": [
    {
     "data": {
      "text/html": [
       "<div>\n",
       "<style scoped>\n",
       "    .dataframe tbody tr th:only-of-type {\n",
       "        vertical-align: middle;\n",
       "    }\n",
       "\n",
       "    .dataframe tbody tr th {\n",
       "        vertical-align: top;\n",
       "    }\n",
       "\n",
       "    .dataframe thead th {\n",
       "        text-align: right;\n",
       "    }\n",
       "</style>\n",
       "<table border=\"1\" class=\"dataframe\">\n",
       "  <thead>\n",
       "    <tr style=\"text-align: right;\">\n",
       "      <th></th>\n",
       "      <th>movieid</th>\n",
       "      <th>title</th>\n",
       "      <th>genre</th>\n",
       "    </tr>\n",
       "  </thead>\n",
       "  <tbody>\n",
       "    <tr>\n",
       "      <th>0</th>\n",
       "      <td>1650</td>\n",
       "      <td>Washington Square (1997)</td>\n",
       "      <td>[Drama]</td>\n",
       "    </tr>\n",
       "    <tr>\n",
       "      <th>1</th>\n",
       "      <td>185</td>\n",
       "      <td>Net, The (1995)</td>\n",
       "      <td>[Sci-Fi, Thriller]</td>\n",
       "    </tr>\n",
       "    <tr>\n",
       "      <th>2</th>\n",
       "      <td>1377</td>\n",
       "      <td>Batman Returns (1992)</td>\n",
       "      <td>[Action, Adventure, Comedy, Crime]</td>\n",
       "    </tr>\n",
       "    <tr>\n",
       "      <th>3</th>\n",
       "      <td>3204</td>\n",
       "      <td>Boys from Brazil, The (1978)</td>\n",
       "      <td>[Thriller]</td>\n",
       "    </tr>\n",
       "    <tr>\n",
       "      <th>4</th>\n",
       "      <td>1901</td>\n",
       "      <td>Dear Jesse (1997)</td>\n",
       "      <td>[Documentary]</td>\n",
       "    </tr>\n",
       "  </tbody>\n",
       "</table>\n",
       "</div>"
      ],
      "text/plain": [
       "   movieid                         title                               genre\n",
       "0     1650      Washington Square (1997)                             [Drama]\n",
       "1      185               Net, The (1995)                  [Sci-Fi, Thriller]\n",
       "2     1377         Batman Returns (1992)  [Action, Adventure, Comedy, Crime]\n",
       "3     3204  Boys from Brazil, The (1978)                          [Thriller]\n",
       "4     1901             Dear Jesse (1997)                       [Documentary]"
      ]
     },
     "execution_count": 1,
     "metadata": {},
     "output_type": "execute_result"
    }
   ],
   "source": [
    "import pandas\n",
    "\n",
    "users = pandas.read_csv('dataset/users.dat', sep='::',\n",
    "                        engine='python',\n",
    "                        names=['userid', 'gender', 'age', 'occupation', 'zip']).set_index('userid')\n",
    "ratings = pandas.read_csv('dataset/ratings.dat', engine='python',\n",
    "                          sep='::', names=['userid', 'movieid', 'rating', 'timestamp'])\n",
    "movies_train = pandas.read_csv('dataset/movies_train.dat', engine='python',\n",
    "                         sep='::', names=['movieid', 'title', 'genre'], encoding='latin-1', index_col=False).set_index('movieid')\n",
    "movies_test = pandas.read_csv('dataset/movies_test.dat', engine='python',\n",
    "                         sep='::', names=['movieid', 'title', 'genre'], encoding='latin-1', index_col=False).set_index('movieid')\n",
    "movies_train['genre'] = movies_train.genre.str.split('|')\n",
    "movies_test['genre'] = movies_test.genre.str.split('|')\n",
    "users.reset_index(inplace=True)\n",
    "\n",
    "users.age = users.age.astype('category')\n",
    "users.gender = users.gender.astype('category')\n",
    "users.occupation = users.occupation.astype('category')\n",
    "ratings.movieid = ratings.movieid.astype('category')\n",
    "ratings.userid = ratings.userid.astype('category')\n",
    "\n",
    "movies_train.reset_index(inplace=True)\n",
    "movies_test.reset_index(inplace=True)\n",
    "\n",
    "movies_train.head()"
   ]
  },
  {
   "cell_type": "code",
   "execution_count": 2,
   "metadata": {},
   "outputs": [
    {
     "name": "stdout",
     "output_type": "stream",
     "text": [
      "329\n",
      "533\n",
      "132\n",
      "3039\n"
     ]
    }
   ],
   "source": [
    "ratings.drop('timestamp', axis=1, inplace=True)\n",
    "rating_movies_train = ratings.merge(movies_train, on='movieid', how='inner')\n",
    "rating_movies_test = ratings.merge(movies_test, on='movieid', how='inner')\n",
    "\n",
    "rating_movies_train.drop('title', axis=1, inplace=True)\n",
    "rating_movies_test.drop('title', axis=1, inplace=True)\n",
    "\n",
    "# delete users who have rated less than 20 movies in the training set\n",
    "delete_users = []\n",
    "for user in rating_movies_train.userid.unique():\n",
    "    if len(rating_movies_train[rating_movies_train.userid == user]) < 20:\n",
    "        delete_users.append(user)\n",
    "\n",
    "print(len(delete_users))\n",
    "rating_movies_train = rating_movies_train[~rating_movies_train.userid.isin(delete_users)]\n",
    "rating_movies_test = rating_movies_test[~rating_movies_test.userid.isin(delete_users)]\n",
    "\n",
    "# delete movies which have been rated less than 20 times in the training set\n",
    "delete_movies = []\n",
    "for movie in rating_movies_train.movieid.unique():\n",
    "    if len(rating_movies_train[rating_movies_train.movieid == movie]) < 20:\n",
    "        delete_movies.append(movie)\n",
    "\n",
    "print(len(delete_movies))\n",
    "rating_movies_train = rating_movies_train[~rating_movies_train.movieid.isin(delete_movies)]\n",
    "rating_movies_test = rating_movies_test[~rating_movies_test.movieid.isin(delete_movies)]\n",
    "\n",
    "# delete movies which have been rated less than 20 times in the test set\n",
    "delete_movies = []\n",
    "for movie in rating_movies_test.movieid.unique():\n",
    "    if len(rating_movies_test[rating_movies_test.movieid == movie]) < 20:\n",
    "        delete_movies.append(movie)\n",
    "\n",
    "print(len(delete_movies))\n",
    "rating_movies_train = rating_movies_train[~rating_movies_train.movieid.isin(delete_movies)]\n",
    "rating_movies_test = rating_movies_test[~rating_movies_test.movieid.isin(delete_movies)]\n",
    "\n",
    "# delete users who have rated less than 20 movies in the test set\n",
    "delete_users = []\n",
    "for user in rating_movies_test.userid.unique():\n",
    "    if len(rating_movies_test[rating_movies_test.userid == user]) < 20:\n",
    "        delete_users.append(user)\n",
    "\n",
    "print(len(delete_users))\n",
    "rating_movies_train = rating_movies_train[~rating_movies_train.userid.isin(delete_users)]\n",
    "rating_movies_test = rating_movies_test[~rating_movies_test.userid.isin(delete_users)]"
   ]
  },
  {
   "cell_type": "code",
   "execution_count": 3,
   "metadata": {},
   "outputs": [
    {
     "name": "stdout",
     "output_type": "stream",
     "text": [
      "Epoch: 0\n"
     ]
    },
    {
     "name": "stderr",
     "output_type": "stream",
     "text": [
      "100%|██████████| 2672/2672 [00:13<00:00, 205.44it/s]\n",
      "100%|██████████| 2427/2427 [00:11<00:00, 211.53it/s]\n"
     ]
    }
   ],
   "source": [
    "from sklearn.linear_model import Ridge\n",
    "from sklearn.preprocessing import MultiLabelBinarizer\n",
    "import numpy as np\n",
    "from tqdm import tqdm\n",
    "import pandas as pd\n",
    "\n",
    "mlb = MultiLabelBinarizer()\n",
    "mlb.fit(rating_movies_train.genre)\n",
    "\n",
    "user_feature = dict()\n",
    "\n",
    "movie_feature = pd.Series(\n",
    "    mlb.transform(movies_train.genre).tolist(),\n",
    "    index=movies_train.movieid\n",
    ").to_dict()\n",
    "\n",
    "epoch = 0\n",
    "\n",
    "for i in range(epoch + 1):\n",
    "    print('Epoch: {}'.format(i))\n",
    "\n",
    "    # update user feature\n",
    "    done_users = []\n",
    "    user_feature_prev = user_feature.copy()\n",
    "    for user_id in tqdm(rating_movies_train.userid.unique().tolist()):\n",
    "        if user_id in done_users:\n",
    "            continue\n",
    "        user_ratings = rating_movies_train[rating_movies_train.userid == user_id]\n",
    "        \n",
    "        movie_id_X= user_ratings.movieid.values.tolist()\n",
    "        X = [movie_feature[movie_id] for movie_id in movie_id_X]\n",
    "        X = np.array(X)\n",
    "\n",
    "        y = user_ratings['rating'].values.tolist()\n",
    "        y = np.array(y).reshape(-1, 1)\n",
    "        y = y / 5\n",
    "\n",
    "        clf = Ridge(alpha=1.0)\n",
    "        clf.fit(X, y)\n",
    "        \n",
    "        user_feature[user_id] = np.array(clf.coef_, dtype=float).flatten()\n",
    "    \n",
    "    # update movie feature\n",
    "    movie_feature_prev = movie_feature.copy()\n",
    "    done_movies = []\n",
    "    for movie_id in tqdm(rating_movies_train.movieid.unique().tolist()):\n",
    "        if movie_id in done_movies:\n",
    "            continue\n",
    "\n",
    "        movie_ratings = rating_movies_train[rating_movies_train.movieid == movie_id]\n",
    "        user_id_y = movie_ratings.userid.values.tolist()\n",
    "        y = movie_ratings['rating'].values.tolist()\n",
    "        y = np.array(y).reshape(-1, 1)\n",
    "        y = y / 5\n",
    "        \n",
    "        X = [user_feature[user_id].flatten() for user_id in user_id_y]\n",
    "        X = np.array(X)\n",
    "\n",
    "        clf = Ridge(alpha=1.0)\n",
    "        clf.fit(X, y)\n",
    "\n",
    "        movie_feature[movie_id] = np.array(clf.coef_, dtype=float).flatten()\n",
    "\n",
    "    if i > 0:\n",
    "        if np.allclose(np.array(list(user_feature.values())), np.array(list(user_feature_prev.values()))):\n",
    "            print('User feature converged')\n",
    "            break\n",
    "        # calculate distance between user feature prev and user feature\n",
    "        dist = 0\n",
    "        for user_id in user_feature.keys():\n",
    "            dist += np.linalg.norm(user_feature[user_id] - user_feature_prev[user_id])\n",
    "        print('User feature distance: {}'.format(dist))\n",
    "        "
   ]
  },
  {
   "cell_type": "code",
   "execution_count": 4,
   "metadata": {},
   "outputs": [
    {
     "name": "stderr",
     "output_type": "stream",
     "text": [
      "  0%|          | 0/611 [00:00<?, ?it/s]"
     ]
    },
    {
     "name": "stderr",
     "output_type": "stream",
     "text": [
      "100%|██████████| 611/611 [00:01<00:00, 356.55it/s]\n"
     ]
    }
   ],
   "source": [
    "movie_feature = dict()\n",
    "for movie_id in tqdm(rating_movies_test.movieid.unique().tolist()):\n",
    "    movie_ratings = rating_movies_test[rating_movies_test.movieid == movie_id]\n",
    "    y = movie_ratings.rating.values.tolist()\n",
    "    y = np.array(y)\n",
    "\n",
    "    X = []\n",
    "    for user_id in movie_ratings.userid.tolist():\n",
    "        X.append(user_feature[user_id].flatten())\n",
    "    X = np.array(X)\n",
    "\n",
    "    clf = Ridge(alpha=1.0)\n",
    "    clf.fit(X, y)\n",
    "    movie_feature[movie_id] = clf.coef_"
   ]
  },
  {
   "cell_type": "code",
   "execution_count": 5,
   "metadata": {},
   "outputs": [
    {
     "name": "stdout",
     "output_type": "stream",
     "text": [
      "(262144, 18)\n"
     ]
    }
   ],
   "source": [
    "import numpy as np\n",
    "\n",
    "bit_length = 18\n",
    "all_genres_combine = []\n",
    "\n",
    "for i in range(2**bit_length):\n",
    "    binary_representation = [(i >> j) & 1 for j in range(bit_length - 1, -1, -1)]\n",
    "    all_genres_combine.append(binary_representation)\n",
    "\n",
    "all_genres_combine = np.array(all_genres_combine)\n",
    "\n",
    "print(all_genres_combine.shape)"
   ]
  },
  {
   "cell_type": "code",
   "execution_count": 6,
   "metadata": {},
   "outputs": [
    {
     "name": "stderr",
     "output_type": "stream",
     "text": [
      "100%|██████████| 611/611 [00:00<00:00, 1441.83it/s]"
     ]
    },
    {
     "name": "stdout",
     "output_type": "stream",
     "text": [
      "f1: 0.2348705232143402, precision: 0.1643388718366623, recall: 0.8041476607322693\n"
     ]
    },
    {
     "name": "stderr",
     "output_type": "stream",
     "text": [
      "\n"
     ]
    }
   ],
   "source": [
    "import torch\n",
    "from torchmetrics.classification import MultilabelF1Score, MultilabelPrecision, MultilabelRecall\n",
    "from tqdm import tqdm\n",
    "\n",
    "device = 'cuda' if torch.cuda.is_available() else 'cpu'\n",
    "metric = MultilabelF1Score(num_labels=18, threshold=0.5, average='macro')\n",
    "metric.to(device)\n",
    "precision = MultilabelPrecision(num_labels=18, threshold=0.5, average='macro')\n",
    "precision.to(device)\n",
    "recall = MultilabelRecall(num_labels=18, threshold=0.5, average='macro')\n",
    "recall.to(device)\n",
    "\n",
    "all_pred = []\n",
    "all_true = []\n",
    "for key, value in tqdm(movie_feature.items()):    \n",
    "    genres = torch.tensor(value, dtype=torch.float32, device=device).reshape(1, -1)\n",
    "    y_true = torch.tensor(mlb.transform([movies_test[movies_test.movieid == key].genre.tolist()[0]]), dtype=torch.float32, device=device).reshape(1, -1)\n",
    "    all_pred.append(genres)\n",
    "    all_true.append(y_true)\n",
    "    \n",
    "f1_all = metric(torch.cat(all_pred), torch.cat(all_true))\n",
    "precision_all = precision(torch.cat(all_pred), torch.cat(all_true))\n",
    "recall_all = recall(torch.cat(all_pred), torch.cat(all_true))\n",
    "\n",
    "print(f'f1: {f1_all}, precision: {precision_all}, recall: {recall_all}')"
   ]
  },
  {
   "cell_type": "code",
   "execution_count": null,
   "metadata": {},
   "outputs": [],
   "source": []
  }
 ],
 "metadata": {
  "kernelspec": {
   "display_name": "base",
   "language": "python",
   "name": "python3"
  },
  "language_info": {
   "codemirror_mode": {
    "name": "ipython",
    "version": 3
   },
   "file_extension": ".py",
   "mimetype": "text/x-python",
   "name": "python",
   "nbconvert_exporter": "python",
   "pygments_lexer": "ipython3",
   "version": "3.9.18"
  }
 },
 "nbformat": 4,
 "nbformat_minor": 2
}
