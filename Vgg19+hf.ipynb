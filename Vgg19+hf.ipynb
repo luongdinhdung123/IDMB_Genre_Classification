{
 "cells": [
  {
   "cell_type": "code",
   "execution_count": 1,
   "metadata": {},
   "outputs": [
    {
     "data": {
      "text/html": [
       "<div>\n",
       "<style scoped>\n",
       "    .dataframe tbody tr th:only-of-type {\n",
       "        vertical-align: middle;\n",
       "    }\n",
       "\n",
       "    .dataframe tbody tr th {\n",
       "        vertical-align: top;\n",
       "    }\n",
       "\n",
       "    .dataframe thead th {\n",
       "        text-align: right;\n",
       "    }\n",
       "</style>\n",
       "<table border=\"1\" class=\"dataframe\">\n",
       "  <thead>\n",
       "    <tr style=\"text-align: right;\">\n",
       "      <th></th>\n",
       "      <th>title</th>\n",
       "      <th>genre</th>\n",
       "    </tr>\n",
       "    <tr>\n",
       "      <th>movieid</th>\n",
       "      <th></th>\n",
       "      <th></th>\n",
       "    </tr>\n",
       "  </thead>\n",
       "  <tbody>\n",
       "    <tr>\n",
       "      <th>1650</th>\n",
       "      <td>Washington Square (1997)</td>\n",
       "      <td>[Drama]</td>\n",
       "    </tr>\n",
       "    <tr>\n",
       "      <th>185</th>\n",
       "      <td>Net, The (1995)</td>\n",
       "      <td>[Sci-Fi, Thriller]</td>\n",
       "    </tr>\n",
       "    <tr>\n",
       "      <th>1377</th>\n",
       "      <td>Batman Returns (1992)</td>\n",
       "      <td>[Action, Adventure, Comedy, Crime]</td>\n",
       "    </tr>\n",
       "    <tr>\n",
       "      <th>3204</th>\n",
       "      <td>Boys from Brazil, The (1978)</td>\n",
       "      <td>[Thriller]</td>\n",
       "    </tr>\n",
       "    <tr>\n",
       "      <th>1901</th>\n",
       "      <td>Dear Jesse (1997)</td>\n",
       "      <td>[Documentary]</td>\n",
       "    </tr>\n",
       "  </tbody>\n",
       "</table>\n",
       "</div>"
      ],
      "text/plain": [
       "                                title                               genre\n",
       "movieid                                                                  \n",
       "1650         Washington Square (1997)                             [Drama]\n",
       "185                   Net, The (1995)                  [Sci-Fi, Thriller]\n",
       "1377            Batman Returns (1992)  [Action, Adventure, Comedy, Crime]\n",
       "3204     Boys from Brazil, The (1978)                          [Thriller]\n",
       "1901                Dear Jesse (1997)                       [Documentary]"
      ]
     },
     "execution_count": 1,
     "metadata": {},
     "output_type": "execute_result"
    }
   ],
   "source": [
    "import pandas\n",
    "\n",
    "users = pandas.read_csv('dataset/users.dat', sep='::',\n",
    "                        engine='python',\n",
    "                        names=['userid', 'gender', 'age', 'occupation', 'zip']).set_index('userid')\n",
    "ratings = pandas.read_csv('dataset/ratings.dat', engine='python',\n",
    "                          sep='::', names=['userid', 'movieid', 'rating', 'timestamp'])\n",
    "movies_train = pandas.read_csv('dataset/movies_train.dat', engine='python',\n",
    "                         sep='::', names=['movieid', 'title', 'genre'], encoding='latin-1', index_col=False).set_index('movieid')\n",
    "movies_test = pandas.read_csv('dataset/movies_test.dat', engine='python',\n",
    "                         sep='::', names=['movieid', 'title', 'genre'], encoding='latin-1', index_col=False).set_index('movieid')\n",
    "movies_train['genre'] = movies_train.genre.str.split('|')\n",
    "movies_test['genre'] = movies_test.genre.str.split('|')\n",
    "\n",
    "users.age = users.age.astype('category')\n",
    "users.gender = users.gender.astype('category')\n",
    "users.occupation = users.occupation.astype('category')\n",
    "ratings.movieid = ratings.movieid.astype('category')\n",
    "ratings.userid = ratings.userid.astype('category')\n",
    "\n",
    "movies_train.head()"
   ]
  },
  {
   "cell_type": "code",
   "execution_count": 2,
   "metadata": {},
   "outputs": [
    {
     "data": {
      "text/html": [
       "<div>\n",
       "<style scoped>\n",
       "    .dataframe tbody tr th:only-of-type {\n",
       "        vertical-align: middle;\n",
       "    }\n",
       "\n",
       "    .dataframe tbody tr th {\n",
       "        vertical-align: top;\n",
       "    }\n",
       "\n",
       "    .dataframe thead th {\n",
       "        text-align: right;\n",
       "    }\n",
       "</style>\n",
       "<table border=\"1\" class=\"dataframe\">\n",
       "  <thead>\n",
       "    <tr style=\"text-align: right;\">\n",
       "      <th></th>\n",
       "      <th>movieid</th>\n",
       "      <th>title</th>\n",
       "      <th>genre</th>\n",
       "      <th>id</th>\n",
       "      <th>img_path</th>\n",
       "    </tr>\n",
       "  </thead>\n",
       "  <tbody>\n",
       "    <tr>\n",
       "      <th>0</th>\n",
       "      <td>1650</td>\n",
       "      <td>Washington Square (1997)</td>\n",
       "      <td>[Drama]</td>\n",
       "      <td>1650</td>\n",
       "      <td>dataset/ml1m-images\\1650.jpg</td>\n",
       "    </tr>\n",
       "    <tr>\n",
       "      <th>1</th>\n",
       "      <td>185</td>\n",
       "      <td>Net, The (1995)</td>\n",
       "      <td>[Sci-Fi, Thriller]</td>\n",
       "      <td>185</td>\n",
       "      <td>dataset/ml1m-images\\185.jpg</td>\n",
       "    </tr>\n",
       "    <tr>\n",
       "      <th>2</th>\n",
       "      <td>1377</td>\n",
       "      <td>Batman Returns (1992)</td>\n",
       "      <td>[Action, Adventure, Comedy, Crime]</td>\n",
       "      <td>1377</td>\n",
       "      <td>dataset/ml1m-images\\1377.jpg</td>\n",
       "    </tr>\n",
       "    <tr>\n",
       "      <th>3</th>\n",
       "      <td>3204</td>\n",
       "      <td>Boys from Brazil, The (1978)</td>\n",
       "      <td>[Thriller]</td>\n",
       "      <td>3204</td>\n",
       "      <td>dataset/ml1m-images\\3204.jpg</td>\n",
       "    </tr>\n",
       "    <tr>\n",
       "      <th>4</th>\n",
       "      <td>1901</td>\n",
       "      <td>Dear Jesse (1997)</td>\n",
       "      <td>[Documentary]</td>\n",
       "      <td>1901</td>\n",
       "      <td>dataset/ml1m-images\\1901.jpg</td>\n",
       "    </tr>\n",
       "  </tbody>\n",
       "</table>\n",
       "</div>"
      ],
      "text/plain": [
       "   movieid                         title                               genre  \\\n",
       "0     1650      Washington Square (1997)                             [Drama]   \n",
       "1      185               Net, The (1995)                  [Sci-Fi, Thriller]   \n",
       "2     1377         Batman Returns (1992)  [Action, Adventure, Comedy, Crime]   \n",
       "3     3204  Boys from Brazil, The (1978)                          [Thriller]   \n",
       "4     1901             Dear Jesse (1997)                       [Documentary]   \n",
       "\n",
       "     id                      img_path  \n",
       "0  1650  dataset/ml1m-images\\1650.jpg  \n",
       "1   185   dataset/ml1m-images\\185.jpg  \n",
       "2  1377  dataset/ml1m-images\\1377.jpg  \n",
       "3  3204  dataset/ml1m-images\\3204.jpg  \n",
       "4  1901  dataset/ml1m-images\\1901.jpg  "
      ]
     },
     "execution_count": 2,
     "metadata": {},
     "output_type": "execute_result"
    }
   ],
   "source": [
    "import os\n",
    "\n",
    "folder_img_path = 'dataset/ml1m-images'\n",
    "movies_train['id'] = movies_train.index\n",
    "movies_train.reset_index(inplace=True)\n",
    "movies_train['img_path'] = movies_train.apply(lambda row: os.path.join(folder_img_path, f'{row.id}.jpg'), axis = 1)\n",
    "\n",
    "movies_test['id'] = movies_test.index\n",
    "movies_test.reset_index(inplace=True)\n",
    "movies_test['img_path'] = movies_test.apply(lambda row: os.path.join(folder_img_path, f'{row.id}.jpg'), axis = 1)\n",
    "\n",
    "movies_train.head()"
   ]
  },
  {
   "cell_type": "code",
   "execution_count": 1,
   "metadata": {},
   "outputs": [
    {
     "name": "stdout",
     "output_type": "stream",
     "text": [
      "Loaded as API: https://osanseviero-mistral-super-fast.hf.space/ ✔\n"
     ]
    },
    {
     "data": {
      "text/plain": [
       "' \"Washington Square\" is a 20th-century American play by Arthur Miller. It tells the story of Bill Calhoun, a struggling writer who falls in love with Sally Hayes, a young woman from an upper-class family. The play explores themes such as class, ambition, and social status in 1840s New York City.\\n\\nThe play was first produced on Broadway in 1956, starring Lauren Bacall as Sally Hayes and Montgomery Clift as Bill Calhoun. In recent years, it has been revived several times, including a successful production at the Roundabout Theatre Company in 2013.</s>'"
      ]
     },
     "execution_count": 1,
     "metadata": {},
     "output_type": "execute_result"
    }
   ],
   "source": [
    "from gradio_client import Client\n",
    "\n",
    "title = \"Washington Square (1997)\"\n",
    "client = Client(\"https://osanseviero-mistral-super-fast.hf.space/\")\n",
    "client.predict(\"Washington Square (1997)\", 0.9, 256, 0.9, 1.2, api_name=\"/chat\")"
   ]
  },
  {
   "cell_type": "code",
   "execution_count": 6,
   "metadata": {},
   "outputs": [],
   "source": [
    "from gradio_client import Client\n",
    "from tqdm import tqdm\n",
    "import numpy as np\n",
    "\n",
    "client = Client(\"https://osanseviero-mistral-super-fast.hf.space/\")\n",
    "\n",
    "def get_summary(title):\n",
    "    global client\n",
    "    try:\n",
    "        return client.predict(title, 0.9, 256, 0.9, 1.2, api_name=\"/chat\")\n",
    "    except:\n",
    "        try:\n",
    "            client = Client(\"https://osanseviero-mistral-super-fast.hf.space/\")\n",
    "            return client.predict(title, 0.9, 256, 0.9, 1.2, api_name=\"/chat\")\n",
    "        except:\n",
    "            print(f'Error with {title}')\n",
    "            return None\n",
    "        \n",
    "tqdm.pandas()\n",
    "\n",
    "movies_train['summary'] = movies_train.title.progress_apply(get_summary)\n",
    "movies_train.to_csv('dataset/movies_train.csv', index=False)\n",
    "\n",
    "movies_test['summary'] = movies_test.title.progress_apply(get_summary)    \n",
    "movies_test.to_csv('dataset/movies_test.csv', index=False)"
   ]
  },
  {
   "cell_type": "code",
   "execution_count": 3,
   "metadata": {},
   "outputs": [
    {
     "data": {
      "text/html": [
       "<div>\n",
       "<style scoped>\n",
       "    .dataframe tbody tr th:only-of-type {\n",
       "        vertical-align: middle;\n",
       "    }\n",
       "\n",
       "    .dataframe tbody tr th {\n",
       "        vertical-align: top;\n",
       "    }\n",
       "\n",
       "    .dataframe thead th {\n",
       "        text-align: right;\n",
       "    }\n",
       "</style>\n",
       "<table border=\"1\" class=\"dataframe\">\n",
       "  <thead>\n",
       "    <tr style=\"text-align: right;\">\n",
       "      <th></th>\n",
       "      <th>movieid</th>\n",
       "      <th>title</th>\n",
       "      <th>genre</th>\n",
       "      <th>id</th>\n",
       "      <th>img_path</th>\n",
       "      <th>summary</th>\n",
       "    </tr>\n",
       "  </thead>\n",
       "  <tbody>\n",
       "    <tr>\n",
       "      <th>0</th>\n",
       "      <td>1650</td>\n",
       "      <td>Washington Square (1997)</td>\n",
       "      <td>['Drama']</td>\n",
       "      <td>1650</td>\n",
       "      <td>dataset/ml1m-images\\1650.jpg</td>\n",
       "      <td>\"Washington Square\" is a 20th-century America...</td>\n",
       "    </tr>\n",
       "    <tr>\n",
       "      <th>1</th>\n",
       "      <td>185</td>\n",
       "      <td>Net, The (1995)</td>\n",
       "      <td>['Sci-Fi', 'Thriller']</td>\n",
       "      <td>185</td>\n",
       "      <td>dataset/ml1m-images\\185.jpg</td>\n",
       "      <td>\"Net\" is a 20th-century American play by Paul...</td>\n",
       "    </tr>\n",
       "    <tr>\n",
       "      <th>2</th>\n",
       "      <td>1377</td>\n",
       "      <td>Batman Returns (1992)</td>\n",
       "      <td>['Action', 'Adventure', 'Comedy', 'Crime']</td>\n",
       "      <td>1377</td>\n",
       "      <td>dataset/ml1m-images\\1377.jpg</td>\n",
       "      <td>\"Batman Returns\" is a superhero film directed...</td>\n",
       "    </tr>\n",
       "    <tr>\n",
       "      <th>3</th>\n",
       "      <td>3204</td>\n",
       "      <td>Boys from Brazil, The (1978)</td>\n",
       "      <td>['Thriller']</td>\n",
       "      <td>3204</td>\n",
       "      <td>dataset/ml1m-images\\3204.jpg</td>\n",
       "      <td>\"Boys from Brazil\" is a horror thriller film...</td>\n",
       "    </tr>\n",
       "    <tr>\n",
       "      <th>4</th>\n",
       "      <td>1901</td>\n",
       "      <td>Dear Jesse (1997)</td>\n",
       "      <td>['Documentary']</td>\n",
       "      <td>1901</td>\n",
       "      <td>dataset/ml1m-images\\1901.jpg</td>\n",
       "      <td>\"Dear Jesse\" is an American comedy drama fil...</td>\n",
       "    </tr>\n",
       "  </tbody>\n",
       "</table>\n",
       "</div>"
      ],
      "text/plain": [
       "   movieid                         title  \\\n",
       "0     1650      Washington Square (1997)   \n",
       "1      185               Net, The (1995)   \n",
       "2     1377         Batman Returns (1992)   \n",
       "3     3204  Boys from Brazil, The (1978)   \n",
       "4     1901             Dear Jesse (1997)   \n",
       "\n",
       "                                        genre    id  \\\n",
       "0                                   ['Drama']  1650   \n",
       "1                      ['Sci-Fi', 'Thriller']   185   \n",
       "2  ['Action', 'Adventure', 'Comedy', 'Crime']  1377   \n",
       "3                                ['Thriller']  3204   \n",
       "4                             ['Documentary']  1901   \n",
       "\n",
       "                       img_path  \\\n",
       "0  dataset/ml1m-images\\1650.jpg   \n",
       "1   dataset/ml1m-images\\185.jpg   \n",
       "2  dataset/ml1m-images\\1377.jpg   \n",
       "3  dataset/ml1m-images\\3204.jpg   \n",
       "4  dataset/ml1m-images\\1901.jpg   \n",
       "\n",
       "                                             summary  \n",
       "0   \"Washington Square\" is a 20th-century America...  \n",
       "1   \"Net\" is a 20th-century American play by Paul...  \n",
       "2   \"Batman Returns\" is a superhero film directed...  \n",
       "3    \"Boys from Brazil\" is a horror thriller film...  \n",
       "4    \"Dear Jesse\" is an American comedy drama fil...  "
      ]
     },
     "execution_count": 3,
     "metadata": {},
     "output_type": "execute_result"
    }
   ],
   "source": [
    "import pandas as pd\n",
    "\n",
    "movies_train = pd.read_csv('dataset/movies_train.csv')\n",
    "movies_test = pd.read_csv('dataset/movies_test.csv')\n",
    "\n",
    "movies_train.head()"
   ]
  },
  {
   "cell_type": "code",
   "execution_count": 2,
   "metadata": {},
   "outputs": [
    {
     "data": {
      "text/plain": [
       "[[1.3873525857925415,\n",
       "  1.1331429481506348,\n",
       "  -0.8626436591148376,\n",
       "  -0.5688660740852356,\n",
       "  0.8573216199874878,\n",
       "  -0.41734230518341064,\n",
       "  -0.9447510838508606,\n",
       "  -1.7857648134231567,\n",
       "  2.031477928161621,\n",
       "  -0.6985796689987183]]"
      ]
     },
     "execution_count": 2,
     "metadata": {},
     "output_type": "execute_result"
    }
   ],
   "source": [
    "from transformers import AutoTokenizer, AutoModelForSequenceClassification, pipeline\n",
    "\n",
    "tokenizer = AutoTokenizer.from_pretrained(\"nickmuchi/distilroberta-base-movie-genre-prediction\")\n",
    "model = AutoModelForSequenceClassification.from_pretrained(\"nickmuchi/distilroberta-base-movie-genre-prediction\")\n",
    "pipeline = pipeline('feature-extraction', model=model, tokenizer=tokenizer)\n",
    "# pipeline = pipeline('text-classification', model=model, tokenizer=tokenizer, top_k=None)\n",
    "\n",
    "res = pipeline(\"Batman Returns (1992)\")\n",
    "res"
   ]
  },
  {
   "cell_type": "code",
   "execution_count": 5,
   "metadata": {},
   "outputs": [
    {
     "name": "stdout",
     "output_type": "stream",
     "text": [
      "1/1 [==============================] - 1s 1s/step\n"
     ]
    },
    {
     "data": {
      "text/plain": [
       "(1, 1000)"
      ]
     },
     "execution_count": 5,
     "metadata": {},
     "output_type": "execute_result"
    }
   ],
   "source": [
    "from keras.applications.vgg19 import VGG19\n",
    "from keras.models import Model\n",
    "from keras.applications.vgg19 import preprocess_input\n",
    "from keras.preprocessing import image\n",
    "\n",
    "vgg19 = VGG19(weights='imagenet')\n",
    "img = image.load_img('dataset/ml1m-images/1.jpg', target_size=(224, 224))\n",
    "img = image.img_to_array(img)\n",
    "img = img.reshape((1, img.shape[0], img.shape[1], img.shape[2]))\n",
    "img = preprocess_input(img)\n",
    "\n",
    "y_hat = vgg19.predict(img)\n",
    "y_hat.shape"
   ]
  },
  {
   "cell_type": "code",
   "execution_count": 4,
   "metadata": {},
   "outputs": [],
   "source": [
    "from torch.utils.data import Dataset, DataLoader\n",
    "import torch\n",
    "import numpy as np\n",
    "from tqdm import tqdm\n",
    "\n",
    "class ImdbDataset(Dataset):\n",
    "    def __init__(self, is_train=True):\n",
    "        if is_train:\n",
    "            self.data =  movies_train\n",
    "        else:\n",
    "            self.data = movies_test\n",
    "\n",
    "        self.title_vector = np.zeros((self.data.shape[0], 10))\n",
    "        self.img_vector = np.zeros((self.data.shape[0], 1000))\n",
    "        \n",
    "        for index, row in self.data.iterrows():\n",
    "            self.title_vector[index] = np.array(pipeline(row.title)[0])\n",
    "\n",
    "            img_path = row.img_path\n",
    "            if os.path.exists(img_path):\n",
    "                img = image.load_img(img_path, target_size=(224, 224))\n",
    "                img = image.img_to_array(img)\n",
    "            else:\n",
    "                img = np.random.rand(224,224,3)\n",
    "            img = img.reshape((1, img.shape[0], img.shape[1], img.shape[2]))\n",
    "            img = preprocess_input(img)\n",
    "            img_vector = vgg19.predict(img)\n",
    "            self.img_vector[index] = img_vector.reshape(-1)\n",
    "\n",
    "        # label genre\n",
    "        with open('dataset/genres.txt', 'r') as f:\n",
    "            genre_all = f.readlines()\n",
    "            genre_all = [x.replace('\\n','') for x in genre_all]\n",
    "        self.genre2idx = {genre:idx for idx, genre in enumerate(genre_all)}\n",
    "\n",
    "    def __getitem__(self, index):\n",
    "        genre = self.data.iloc[index].genre\n",
    "\n",
    "        # preprocess text\n",
    "        title_vec = self.title_vector[index]\n",
    "        title_tensor = torch.from_numpy(title_vec).float()\n",
    "\n",
    "        # preprocess image\n",
    "        img_vec = self.img_vector[index]\n",
    "        img_tensor = torch.from_numpy(img_vec).float()        \n",
    "\n",
    "        # preprocess label\n",
    "        genre_vector = np.zeros(len(self.genre2idx))\n",
    "\n",
    "        for g in genre:\n",
    "            genre_vector[self.genre2idx[g]] = 1\n",
    "        genre_tensor = torch.from_numpy(genre_vector).float()\n",
    "\n",
    "        return title_tensor, img_tensor, genre_tensor\n",
    "\n",
    "    def __len__(self):\n",
    "        return len(self.data)"
   ]
  },
  {
   "cell_type": "code",
   "execution_count": null,
   "metadata": {},
   "outputs": [],
   "source": [
    "train_set = ImdbDataset(is_train=True)\n",
    "test_set = ImdbDataset(is_train=False)\n",
    "\n",
    "# save dataset\n",
    "torch.save(train_set, 'dataset/train_set_vgg19_hf.pt')\n",
    "torch.save(test_set, 'dataset/test_set_vgg19_hf.pt')"
   ]
  },
  {
   "cell_type": "code",
   "execution_count": 5,
   "metadata": {},
   "outputs": [
    {
     "data": {
      "text/plain": [
       "(98, 25)"
      ]
     },
     "execution_count": 5,
     "metadata": {},
     "output_type": "execute_result"
    }
   ],
   "source": [
    "import torch\n",
    "from torch.utils.data import DataLoader\n",
    "\n",
    "# load dataset\n",
    "train_data = torch.load('dataset/train_set_vgg19_hf.pt')\n",
    "test_data = torch.load('dataset/test_set_vgg19_hf.pt')\n",
    "\n",
    "# create dataloader\n",
    "BATCH_SIZE = 32\n",
    "train_loader = DataLoader(dataset=train_data, batch_size=BATCH_SIZE, shuffle=True)\n",
    "test_loader = DataLoader(dataset=test_data, batch_size=BATCH_SIZE, shuffle=False)\n",
    "\n",
    "len(train_loader), len(test_loader)"
   ]
  },
  {
   "cell_type": "code",
   "execution_count": 6,
   "metadata": {},
   "outputs": [
    {
     "name": "stdout",
     "output_type": "stream",
     "text": [
      "torch.Size([32, 10]) torch.Size([32, 1000]) torch.Size([32, 18])\n",
      "torch.Size([32, 10]) torch.Size([32, 1000]) torch.Size([32, 18])\n"
     ]
    }
   ],
   "source": [
    "for title, img, genre in train_loader:\n",
    "    print(title.shape, img.shape, genre.shape)\n",
    "    break\n",
    "for title, img, genre in test_loader:\n",
    "    print(title.shape, img.shape, genre.shape)\n",
    "    break"
   ]
  },
  {
   "cell_type": "code",
   "execution_count": 7,
   "metadata": {},
   "outputs": [
    {
     "data": {
      "text/plain": [
       "ImdbModel_2(\n",
       "  (fc): Sequential(\n",
       "    (0): Linear(in_features=1010, out_features=512, bias=True)\n",
       "    (1): ReLU()\n",
       "    (2): Linear(in_features=512, out_features=256, bias=True)\n",
       "    (3): ReLU()\n",
       "    (4): Linear(in_features=256, out_features=256, bias=True)\n",
       "    (5): ReLU()\n",
       "    (6): Linear(in_features=256, out_features=18, bias=True)\n",
       "  )\n",
       "  (norm_img): BatchNorm1d(1000, eps=1e-05, momentum=0.1, affine=True, track_running_stats=True)\n",
       "  (norm_title): BatchNorm1d(10, eps=1e-05, momentum=0.1, affine=True, track_running_stats=True)\n",
       ")"
      ]
     },
     "execution_count": 7,
     "metadata": {},
     "output_type": "execute_result"
    }
   ],
   "source": [
    "from torch import nn\n",
    "\n",
    "class ImdbModel_2(nn.Module):\n",
    "    def __init__(self):\n",
    "        super().__init__()\n",
    "        self.fc = nn.Sequential(\n",
    "            nn.Linear(1010, 512),\n",
    "            nn.ReLU(),\n",
    "            nn.Linear(512, 256),\n",
    "            nn.ReLU(),\n",
    "            nn.Linear(256, 256),\n",
    "            nn.ReLU(),\n",
    "            nn.Linear(256, 18),\n",
    "        )\n",
    "        self.norm_img = nn.BatchNorm1d(1000)\n",
    "        self.norm_title = nn.BatchNorm1d(10)\n",
    "\n",
    "\n",
    "    def forward(self, title, img):\n",
    "        # normalize\n",
    "        title = self.norm_title(title)\n",
    "        img = self.norm_img(img)\n",
    "\n",
    "        x = torch.cat([title, img], dim=1)\n",
    "        x = self.fc(x)\n",
    "        return x\n",
    "    \n",
    "model = ImdbModel_2()\n",
    "model"
   ]
  },
  {
   "cell_type": "code",
   "execution_count": 8,
   "metadata": {},
   "outputs": [],
   "source": [
    "import torch.optim as optim\n",
    "\n",
    "criterion = nn.CrossEntropyLoss()\n",
    "optimizer = optim.Adam(model.parameters(), lr=0.005)"
   ]
  },
  {
   "cell_type": "code",
   "execution_count": 10,
   "metadata": {},
   "outputs": [
    {
     "name": "stderr",
     "output_type": "stream",
     "text": [
      "100%|██████████| 98/98 [00:02<00:00, 39.00it/s]\n"
     ]
    },
    {
     "name": "stdout",
     "output_type": "stream",
     "text": [
      "Epoch 1/20, train_loss: 4.6350, test_loss: 7.8505, f1: 0.2015, precision: 0.1526, recall: 0.4188\n"
     ]
    },
    {
     "name": "stderr",
     "output_type": "stream",
     "text": [
      "100%|██████████| 98/98 [00:03<00:00, 27.37it/s]\n"
     ]
    },
    {
     "name": "stdout",
     "output_type": "stream",
     "text": [
      "Epoch 2/20, train_loss: 5.2820, test_loss: 7.2465, f1: 0.2013, precision: 0.1470, recall: 0.4000\n"
     ]
    },
    {
     "name": "stderr",
     "output_type": "stream",
     "text": [
      "100%|██████████| 98/98 [00:02<00:00, 42.19it/s]\n"
     ]
    },
    {
     "name": "stdout",
     "output_type": "stream",
     "text": [
      "Epoch 3/20, train_loss: 6.0148, test_loss: 8.0157, f1: 0.2075, precision: 0.1546, recall: 0.4169\n"
     ]
    },
    {
     "name": "stderr",
     "output_type": "stream",
     "text": [
      "100%|██████████| 98/98 [00:02<00:00, 40.86it/s]\n"
     ]
    },
    {
     "name": "stdout",
     "output_type": "stream",
     "text": [
      "Epoch 4/20, train_loss: 1.4933, test_loss: 7.9835, f1: 0.2139, precision: 0.1589, recall: 0.4281\n"
     ]
    },
    {
     "name": "stderr",
     "output_type": "stream",
     "text": [
      "100%|██████████| 98/98 [00:02<00:00, 35.17it/s]\n"
     ]
    },
    {
     "name": "stdout",
     "output_type": "stream",
     "text": [
      "Epoch 5/20, train_loss: 3.8537, test_loss: 7.7987, f1: 0.2077, precision: 0.1563, recall: 0.4090\n"
     ]
    },
    {
     "name": "stderr",
     "output_type": "stream",
     "text": [
      "100%|██████████| 98/98 [00:08<00:00, 10.95it/s]\n"
     ]
    },
    {
     "name": "stdout",
     "output_type": "stream",
     "text": [
      "Epoch 6/20, train_loss: 0.7437, test_loss: 8.2086, f1: 0.2136, precision: 0.1608, recall: 0.4201\n"
     ]
    },
    {
     "name": "stderr",
     "output_type": "stream",
     "text": [
      "100%|██████████| 98/98 [00:08<00:00, 11.54it/s]\n"
     ]
    },
    {
     "name": "stdout",
     "output_type": "stream",
     "text": [
      "Epoch 7/20, train_loss: 2.8073, test_loss: 8.5922, f1: 0.2165, precision: 0.1641, recall: 0.4021\n"
     ]
    },
    {
     "name": "stderr",
     "output_type": "stream",
     "text": [
      "100%|██████████| 98/98 [00:04<00:00, 20.94it/s]\n"
     ]
    },
    {
     "name": "stdout",
     "output_type": "stream",
     "text": [
      "Epoch 8/20, train_loss: 5.6153, test_loss: 8.5953, f1: 0.2175, precision: 0.1602, recall: 0.4297\n"
     ]
    },
    {
     "name": "stderr",
     "output_type": "stream",
     "text": [
      "100%|██████████| 98/98 [00:04<00:00, 22.54it/s]\n"
     ]
    },
    {
     "name": "stdout",
     "output_type": "stream",
     "text": [
      "Epoch 9/20, train_loss: 1.6342, test_loss: 8.2093, f1: 0.2162, precision: 0.1590, recall: 0.4319\n"
     ]
    },
    {
     "name": "stderr",
     "output_type": "stream",
     "text": [
      "100%|██████████| 98/98 [00:07<00:00, 12.80it/s]\n"
     ]
    },
    {
     "name": "stdout",
     "output_type": "stream",
     "text": [
      "Epoch 10/20, train_loss: 4.8747, test_loss: 8.2506, f1: 0.2037, precision: 0.1531, recall: 0.3866\n"
     ]
    },
    {
     "name": "stderr",
     "output_type": "stream",
     "text": [
      "100%|██████████| 98/98 [00:04<00:00, 24.32it/s]\n"
     ]
    },
    {
     "name": "stdout",
     "output_type": "stream",
     "text": [
      "Epoch 11/20, train_loss: 5.0010, test_loss: 10.4845, f1: 0.2048, precision: 0.1527, recall: 0.4077\n"
     ]
    },
    {
     "name": "stderr",
     "output_type": "stream",
     "text": [
      "100%|██████████| 98/98 [00:03<00:00, 26.45it/s]\n"
     ]
    },
    {
     "name": "stdout",
     "output_type": "stream",
     "text": [
      "Epoch 12/20, train_loss: 2.4630, test_loss: 8.9631, f1: 0.1995, precision: 0.1484, recall: 0.4041\n"
     ]
    },
    {
     "name": "stderr",
     "output_type": "stream",
     "text": [
      "100%|██████████| 98/98 [00:01<00:00, 49.01it/s]\n"
     ]
    },
    {
     "name": "stdout",
     "output_type": "stream",
     "text": [
      "Epoch 13/20, train_loss: 1.3180, test_loss: 8.2508, f1: 0.2082, precision: 0.1527, recall: 0.4208\n"
     ]
    },
    {
     "name": "stderr",
     "output_type": "stream",
     "text": [
      "100%|██████████| 98/98 [00:02<00:00, 48.43it/s]\n"
     ]
    },
    {
     "name": "stdout",
     "output_type": "stream",
     "text": [
      "Epoch 14/20, train_loss: 4.4633, test_loss: 8.5410, f1: 0.1989, precision: 0.1474, recall: 0.3975\n"
     ]
    },
    {
     "name": "stderr",
     "output_type": "stream",
     "text": [
      "100%|██████████| 98/98 [00:02<00:00, 33.95it/s]\n"
     ]
    },
    {
     "name": "stdout",
     "output_type": "stream",
     "text": [
      "Epoch 15/20, train_loss: 2.8416, test_loss: 9.2674, f1: 0.2089, precision: 0.1558, recall: 0.3989\n"
     ]
    },
    {
     "name": "stderr",
     "output_type": "stream",
     "text": [
      "100%|██████████| 98/98 [00:01<00:00, 54.69it/s]\n"
     ]
    },
    {
     "name": "stdout",
     "output_type": "stream",
     "text": [
      "Epoch 16/20, train_loss: 3.5779, test_loss: 8.3983, f1: 0.2052, precision: 0.1545, recall: 0.3942\n"
     ]
    },
    {
     "name": "stderr",
     "output_type": "stream",
     "text": [
      "100%|██████████| 98/98 [00:02<00:00, 38.39it/s]\n"
     ]
    },
    {
     "name": "stdout",
     "output_type": "stream",
     "text": [
      "Epoch 17/20, train_loss: 9.9172, test_loss: 7.9981, f1: 0.2067, precision: 0.1518, recall: 0.4065\n"
     ]
    },
    {
     "name": "stderr",
     "output_type": "stream",
     "text": [
      "100%|██████████| 98/98 [00:02<00:00, 43.96it/s]\n"
     ]
    },
    {
     "name": "stdout",
     "output_type": "stream",
     "text": [
      "Epoch 18/20, train_loss: 2.2771, test_loss: 9.4998, f1: 0.2081, precision: 0.1577, recall: 0.3865\n"
     ]
    },
    {
     "name": "stderr",
     "output_type": "stream",
     "text": [
      "100%|██████████| 98/98 [00:02<00:00, 43.32it/s]\n"
     ]
    },
    {
     "name": "stdout",
     "output_type": "stream",
     "text": [
      "Epoch 19/20, train_loss: 2.2126, test_loss: 8.6640, f1: 0.1992, precision: 0.1485, recall: 0.3906\n"
     ]
    },
    {
     "name": "stderr",
     "output_type": "stream",
     "text": [
      "100%|██████████| 98/98 [00:02<00:00, 37.11it/s]\n"
     ]
    },
    {
     "name": "stdout",
     "output_type": "stream",
     "text": [
      "Epoch 20/20, train_loss: 1.5668, test_loss: 7.8617, f1: 0.2186, precision: 0.1632, recall: 0.4187\n"
     ]
    }
   ],
   "source": [
    "from tqdm import tqdm\n",
    "from torchmetrics.classification import MultilabelF1Score, MultilabelPrecision, MultilabelRecall\n",
    "\n",
    "num_labels = genre.shape[1]\n",
    "\n",
    "device = torch.device(\"cuda:0\" if torch.cuda.is_available() else \"cpu\")\n",
    "model.to(device)\n",
    "\n",
    "history = {'train_loss': [], 'test_loss': []}\n",
    "f1_score = {'train': [], 'test': []}\n",
    "\n",
    "f1 = MultilabelF1Score(num_labels=num_labels, threshold=0.5, average='macro')\n",
    "f1 = f1.to(device)\n",
    "precision = MultilabelPrecision(num_labels=num_labels, threshold=0.5, average='macro')\n",
    "precision = precision.to(device)\n",
    "recall = MultilabelRecall(num_labels=num_labels, threshold=0.5, average='macro')\n",
    "recall = recall.to(device)\n",
    " \n",
    "def test(model):\n",
    "    model.eval()\n",
    "    test_loss = 0\n",
    "    f1_all = 0\n",
    "    precision_all = 0\n",
    "    recall_all = 0\n",
    "\n",
    "    with torch.no_grad():\n",
    "        for title, img, genre in test_loader:\n",
    "            title, img, genre = title.to(device), img.to(device), genre.to(device)\n",
    "            outputs = model(title, img)\n",
    "            loss = criterion(outputs, genre)\n",
    "            test_loss += loss.item()\n",
    "            \n",
    "            f1_all += f1(outputs, genre)\n",
    "            precision_all += precision(outputs, genre)\n",
    "            recall_all += recall(outputs, genre)\n",
    "\n",
    "    test_loss /= len(test_loader)\n",
    "    f1_all /= len(test_loader)\n",
    "    precision_all /= len(test_loader)\n",
    "    recall_all /= len(test_loader)\n",
    "\n",
    "    return test_loss, f1_all, precision_all, recall_all\n",
    "\n",
    "num_epochs = 20\n",
    "\n",
    "for epoch in range(num_epochs):\n",
    "    model.train()\n",
    "    for idx, (title, img, genre) in enumerate(tqdm(train_loader)):\n",
    "        title, img, genre = title.to(device), img.to(device), genre.to(device)\n",
    "        optimizer.zero_grad()\n",
    "        outputs = model(title, img)\n",
    "        loss = criterion(outputs, genre)\n",
    "        loss.backward()\n",
    "        optimizer.step()\n",
    "\n",
    "    train_loss = loss.item()\n",
    "    test_loss, f1_all, precision_all, recall_all = test(model)\n",
    "\n",
    "    history['train_loss'].append(train_loss)\n",
    "    history['test_loss'].append(test_loss)\n",
    "\n",
    "    print(f'Epoch {epoch+1}/{num_epochs}, train_loss: {train_loss:.4f}, test_loss: {test_loss:.4f}, f1: {f1_all:.4f}, precision: {precision_all:.4f}, recall: {recall_all:.4f}')"
   ]
  },
  {
   "cell_type": "code",
   "execution_count": 11,
   "metadata": {},
   "outputs": [
    {
     "data": {
      "image/png": "[encoded data removed]",
      "text/plain": [
       "<Figure size 640x480 with 1 Axes>"
      ]
     },
     "metadata": {},
     "output_type": "display_data"
    }
   ],
   "source": [
    "from matplotlib import pyplot as plt\n",
    "plt.plot(history['train_loss'], label='train_loss')\n",
    "plt.plot(history['test_loss'], label='test_loss')\n",
    "plt.legend()\n",
    "plt.show()"
   ]
  },
  {
   "cell_type": "code",
   "execution_count": null,
   "metadata": {},
   "outputs": [],
   "source": []
  }
 ],
 "metadata": {
  "kernelspec": {
   "display_name": "base",
   "language": "python",
   "name": "python3"
  },
  "language_info": {
   "codemirror_mode": {
    "name": "ipython",
    "version": 3
   },
   "file_extension": ".py",
   "mimetype": "text/x-python",
   "name": "python",
   "nbconvert_exporter": "python",
   "pygments_lexer": "ipython3",
   "version": "3.9.18"
  }
 },
 "nbformat": 4,
 "nbformat_minor": 2
}
