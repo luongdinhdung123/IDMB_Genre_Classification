{
 "cells": [
  {
   "cell_type": "code",
   "execution_count": 1,
   "metadata": {},
   "outputs": [],
   "source": [
    "from torch.utils.data import Dataset, DataLoader\n",
    "import torch\n",
    "import numpy as np\n",
    "from tqdm import tqdm\n",
    "import torch\n",
    "\n",
    "\n",
    "class ImdbDataset(Dataset):\n",
    "    def __init__(self, is_train=True):\n",
    "        # label genre\n",
    "        with open('dataset/genres.txt', 'r') as f:\n",
    "            genre_all = f.readlines()\n",
    "            genre_all = [x.replace('\\n','') for x in genre_all]\n",
    "        self.genre2idx = {genre:idx for idx, genre in enumerate(genre_all)}\n",
    "\n",
    "    def __getitem__(self, index):\n",
    "        self.device = torch.device(\"cuda\" if torch.cuda.is_available() else \"cpu\")\n",
    "        genre = self.data.iloc[index].genre\n",
    "\n",
    "        # preprocess text\n",
    "        if len(self.data) > 1000:\n",
    "            self.summary = np.load('dataset/mistral_rating_db/summary_embeddings_train.npy')\n",
    "        else:\n",
    "            self.summary = np.load('dataset/mistral_rating_db/summary_embeddings_test.npy')\n",
    "\n",
    "        title_tensor = torch.from_numpy(self.summary[index]).float()\n",
    "        title_tensor.to(self.device)\n",
    "\n",
    "        # preprocess image\n",
    "        img_vec = self.img_vector[index]\n",
    "        img_tensor = torch.from_numpy(img_vec).float()\n",
    "        img_tensor.to(self.device)        \n",
    "\n",
    "        # preprocess label\n",
    "        genre_vector = np.zeros(len(self.genre2idx))\n",
    "\n",
    "        for g in genre:\n",
    "            genre_vector[self.genre2idx[g]] = 1\n",
    "        genre_tensor = torch.from_numpy(genre_vector).float()\n",
    "        genre_tensor.to(self.device)\n",
    "\n",
    "        return title_tensor, img_tensor, genre_tensor\n",
    "\n",
    "    def __len__(self):\n",
    "        return len(self.data)"
   ]
  },
  {
   "cell_type": "code",
   "execution_count": 2,
   "metadata": {},
   "outputs": [],
   "source": [
    "train_data = torch.load('dataset/train_set_vgg19_hf.pt')\n",
    "test_data = torch.load('dataset/test_set_vgg19_hf.pt')"
   ]
  },
  {
   "cell_type": "code",
   "execution_count": 3,
   "metadata": {},
   "outputs": [
    {
     "data": {
      "text/html": [
       "<div>\n",
       "<style scoped>\n",
       "    .dataframe tbody tr th:only-of-type {\n",
       "        vertical-align: middle;\n",
       "    }\n",
       "\n",
       "    .dataframe tbody tr th {\n",
       "        vertical-align: top;\n",
       "    }\n",
       "\n",
       "    .dataframe thead th {\n",
       "        text-align: right;\n",
       "    }\n",
       "</style>\n",
       "<table border=\"1\" class=\"dataframe\">\n",
       "  <thead>\n",
       "    <tr style=\"text-align: right;\">\n",
       "      <th></th>\n",
       "      <th>movieid</th>\n",
       "      <th>title</th>\n",
       "      <th>genre</th>\n",
       "      <th>id</th>\n",
       "      <th>img_path</th>\n",
       "      <th>summary</th>\n",
       "    </tr>\n",
       "  </thead>\n",
       "  <tbody>\n",
       "    <tr>\n",
       "      <th>0</th>\n",
       "      <td>1650</td>\n",
       "      <td>Washington Square (1997)</td>\n",
       "      <td>['Drama']</td>\n",
       "      <td>1650</td>\n",
       "      <td>dataset/ml1m-images\\1650.jpg</td>\n",
       "      <td>\"Washington Square\" is a 20th-century America...</td>\n",
       "    </tr>\n",
       "    <tr>\n",
       "      <th>1</th>\n",
       "      <td>185</td>\n",
       "      <td>Net, The (1995)</td>\n",
       "      <td>['Sci-Fi', 'Thriller']</td>\n",
       "      <td>185</td>\n",
       "      <td>dataset/ml1m-images\\185.jpg</td>\n",
       "      <td>\"Net\" is a 20th-century American play by Paul...</td>\n",
       "    </tr>\n",
       "    <tr>\n",
       "      <th>2</th>\n",
       "      <td>1377</td>\n",
       "      <td>Batman Returns (1992)</td>\n",
       "      <td>['Action', 'Adventure', 'Comedy', 'Crime']</td>\n",
       "      <td>1377</td>\n",
       "      <td>dataset/ml1m-images\\1377.jpg</td>\n",
       "      <td>\"Batman Returns\" is a superhero film directed...</td>\n",
       "    </tr>\n",
       "    <tr>\n",
       "      <th>3</th>\n",
       "      <td>3204</td>\n",
       "      <td>Boys from Brazil, The (1978)</td>\n",
       "      <td>['Thriller']</td>\n",
       "      <td>3204</td>\n",
       "      <td>dataset/ml1m-images\\3204.jpg</td>\n",
       "      <td>\"Boys from Brazil\" is a horror thriller film...</td>\n",
       "    </tr>\n",
       "    <tr>\n",
       "      <th>4</th>\n",
       "      <td>1901</td>\n",
       "      <td>Dear Jesse (1997)</td>\n",
       "      <td>['Documentary']</td>\n",
       "      <td>1901</td>\n",
       "      <td>dataset/ml1m-images\\1901.jpg</td>\n",
       "      <td>\"Dear Jesse\" is an American comedy drama fil...</td>\n",
       "    </tr>\n",
       "  </tbody>\n",
       "</table>\n",
       "</div>"
      ],
      "text/plain": [
       "   movieid                         title  \\\n",
       "0     1650      Washington Square (1997)   \n",
       "1      185               Net, The (1995)   \n",
       "2     1377         Batman Returns (1992)   \n",
       "3     3204  Boys from Brazil, The (1978)   \n",
       "4     1901             Dear Jesse (1997)   \n",
       "\n",
       "                                        genre    id  \\\n",
       "0                                   ['Drama']  1650   \n",
       "1                      ['Sci-Fi', 'Thriller']   185   \n",
       "2  ['Action', 'Adventure', 'Comedy', 'Crime']  1377   \n",
       "3                                ['Thriller']  3204   \n",
       "4                             ['Documentary']  1901   \n",
       "\n",
       "                       img_path  \\\n",
       "0  dataset/ml1m-images\\1650.jpg   \n",
       "1   dataset/ml1m-images\\185.jpg   \n",
       "2  dataset/ml1m-images\\1377.jpg   \n",
       "3  dataset/ml1m-images\\3204.jpg   \n",
       "4  dataset/ml1m-images\\1901.jpg   \n",
       "\n",
       "                                             summary  \n",
       "0   \"Washington Square\" is a 20th-century America...  \n",
       "1   \"Net\" is a 20th-century American play by Paul...  \n",
       "2   \"Batman Returns\" is a superhero film directed...  \n",
       "3    \"Boys from Brazil\" is a horror thriller film...  \n",
       "4    \"Dear Jesse\" is an American comedy drama fil...  "
      ]
     },
     "execution_count": 3,
     "metadata": {},
     "output_type": "execute_result"
    }
   ],
   "source": [
    "import pandas as pd\n",
    "\n",
    "movies_train = pd.read_csv('dataset/movies_train.csv')\n",
    "movies_test = pd.read_csv('dataset/movies_test.csv')\n",
    "\n",
    "movies_train.head()"
   ]
  },
  {
   "cell_type": "code",
   "execution_count": 4,
   "metadata": {},
   "outputs": [
    {
     "data": {
      "text/plain": [
       "[[1.8031609058380127,\n",
       "  0.8620648980140686,\n",
       "  -0.12129483371973038,\n",
       "  -0.966647744178772,\n",
       "  0.6624167561531067,\n",
       "  -0.9030779004096985,\n",
       "  -0.6619834303855896,\n",
       "  -1.9180376529693604,\n",
       "  1.4222161769866943,\n",
       "  -0.4344601333141327]]"
      ]
     },
     "execution_count": 4,
     "metadata": {},
     "output_type": "execute_result"
    }
   ],
   "source": [
    "from transformers import AutoTokenizer, AutoModelForSequenceClassification, pipeline\n",
    "\n",
    "tokenizer = AutoTokenizer.from_pretrained(\"nickmuchi/distilroberta-base-movie-genre-prediction\")\n",
    "model = AutoModelForSequenceClassification.from_pretrained(\"nickmuchi/distilroberta-base-movie-genre-prediction\")\n",
    "pipeline = pipeline('feature-extraction', model=model, tokenizer=tokenizer)\n",
    "# pipeline = pipeline('text-classification', model=model, tokenizer=tokenizer, top_k=None)\n",
    "\n",
    "res = pipeline(\"'Batman Returns' is a superhero film directed by Tim Burton and released in 1992. It stars Michael Keaton reprising his role as Bruce Wayne/Batman, alongside Danny DeVito playing the Joker. Set two decades after the events of the previous film (\"\"Batman\"\"), this installment finds Gotham City under threat from both new enemies - Catwoman (played by Michelle Pfeiffer) and the returning villainous Joker. The film received critical acclaim upon release and remains one of the highest-grossing films of all time. Its darker tone and more mature subject matter have had a lasting impact on the Batman franchise, influencing future adaptations and helping to cement its place as one of popular culture's most iconic characters\")\n",
    "res"
   ]
  },
  {
   "cell_type": "code",
   "execution_count": 3,
   "metadata": {},
   "outputs": [
    {
     "name": "stdout",
     "output_type": "stream",
     "text": [
      "torch.Size([32, 10]) torch.Size([32, 1000]) torch.Size([32, 18])\n",
      "torch.Size([32, 10]) torch.Size([32, 1000]) torch.Size([32, 18])\n"
     ]
    }
   ],
   "source": [
    "BATCH_SIZE = 32\n",
    "train_loader = DataLoader(dataset=train_data, batch_size=BATCH_SIZE, shuffle=True)\n",
    "test_loader = DataLoader(dataset=test_data, batch_size=BATCH_SIZE, shuffle=False)\n",
    "\n",
    "for title, img, genre in train_loader:\n",
    "    print(title.shape, img.shape, genre.shape)\n",
    "    break\n",
    "for title, img, genre in test_loader:\n",
    "    print(title.shape, img.shape, genre.shape)\n",
    "    break"
   ]
  },
  {
   "cell_type": "code",
   "execution_count": 4,
   "metadata": {},
   "outputs": [
    {
     "data": {
      "text/plain": [
       "ImdbModel_2(\n",
       "  (fc): Sequential(\n",
       "    (0): Linear(in_features=1010, out_features=512, bias=True)\n",
       "    (1): ReLU()\n",
       "    (2): Linear(in_features=512, out_features=256, bias=True)\n",
       "    (3): ReLU()\n",
       "    (4): Linear(in_features=256, out_features=256, bias=True)\n",
       "    (5): ReLU()\n",
       "    (6): Linear(in_features=256, out_features=18, bias=True)\n",
       "  )\n",
       "  (norm_img): BatchNorm1d(1000, eps=1e-05, momentum=0.1, affine=True, track_running_stats=True)\n",
       "  (norm_title): BatchNorm1d(10, eps=1e-05, momentum=0.1, affine=True, track_running_stats=True)\n",
       ")"
      ]
     },
     "execution_count": 4,
     "metadata": {},
     "output_type": "execute_result"
    }
   ],
   "source": [
    "from torch import nn\n",
    "\n",
    "class ImdbModel_2(nn.Module):\n",
    "    def __init__(self):\n",
    "        super().__init__()\n",
    "        self.fc = nn.Sequential(\n",
    "            nn.Linear(1010, 512),\n",
    "            nn.ReLU(),\n",
    "            nn.Linear(512, 256),\n",
    "            nn.ReLU(),\n",
    "            nn.Linear(256, 256),\n",
    "            nn.ReLU(),\n",
    "            nn.Linear(256, 18),\n",
    "        )\n",
    "        self.norm_img = nn.BatchNorm1d(1000)\n",
    "        self.norm_title = nn.BatchNorm1d(10)\n",
    "\n",
    "\n",
    "    def forward(self, title, img):\n",
    "        # normalize\n",
    "        title = self.norm_title(title)\n",
    "        img = self.norm_img(img)\n",
    "\n",
    "        x = torch.cat([title, img], dim=1)\n",
    "        x = self.fc(x)\n",
    "        return x\n",
    "    \n",
    "model = ImdbModel_2()\n",
    "model"
   ]
  },
  {
   "cell_type": "code",
   "execution_count": 5,
   "metadata": {},
   "outputs": [],
   "source": [
    "import torch.optim as optim\n",
    "\n",
    "criterion = nn.CrossEntropyLoss()\n",
    "optimizer = optim.Adam(model.parameters(), lr=0.005)"
   ]
  },
  {
   "cell_type": "code",
   "execution_count": 6,
   "metadata": {},
   "outputs": [
    {
     "name": "stderr",
     "output_type": "stream",
     "text": [
      "100%|██████████| 98/98 [00:04<00:00, 22.40it/s]\n"
     ]
    },
    {
     "name": "stdout",
     "output_type": "stream",
     "text": [
      "Epoch 1/20, train_loss: 3.2391, test_loss: 3.3051, f1: 0.2353, precision: 0.1632, recall: 0.5295\n"
     ]
    },
    {
     "name": "stderr",
     "output_type": "stream",
     "text": [
      "100%|██████████| 98/98 [00:04<00:00, 23.65it/s]\n"
     ]
    },
    {
     "name": "stdout",
     "output_type": "stream",
     "text": [
      "Epoch 2/20, train_loss: 1.2246, test_loss: 3.5730, f1: 0.2479, precision: 0.1824, recall: 0.5174\n"
     ]
    },
    {
     "name": "stderr",
     "output_type": "stream",
     "text": [
      "100%|██████████| 98/98 [00:03<00:00, 28.90it/s]\n"
     ]
    },
    {
     "name": "stdout",
     "output_type": "stream",
     "text": [
      "Epoch 3/20, train_loss: 3.3203, test_loss: 3.6531, f1: 0.2524, precision: 0.1946, recall: 0.4974\n"
     ]
    },
    {
     "name": "stderr",
     "output_type": "stream",
     "text": [
      "100%|██████████| 98/98 [00:04<00:00, 22.85it/s]\n"
     ]
    },
    {
     "name": "stdout",
     "output_type": "stream",
     "text": [
      "Epoch 4/20, train_loss: 2.8708, test_loss: 3.7392, f1: 0.2543, precision: 0.1842, recall: 0.5280\n"
     ]
    },
    {
     "name": "stderr",
     "output_type": "stream",
     "text": [
      "100%|██████████| 98/98 [00:04<00:00, 23.07it/s]\n"
     ]
    },
    {
     "name": "stdout",
     "output_type": "stream",
     "text": [
      "Epoch 5/20, train_loss: 2.6831, test_loss: 3.8257, f1: 0.2443, precision: 0.1776, recall: 0.5110\n"
     ]
    },
    {
     "name": "stderr",
     "output_type": "stream",
     "text": [
      "100%|██████████| 98/98 [00:05<00:00, 18.72it/s]\n"
     ]
    },
    {
     "name": "stdout",
     "output_type": "stream",
     "text": [
      "Epoch 6/20, train_loss: 2.0152, test_loss: 4.3507, f1: 0.2498, precision: 0.1857, recall: 0.4869\n"
     ]
    },
    {
     "name": "stderr",
     "output_type": "stream",
     "text": [
      "100%|██████████| 98/98 [00:04<00:00, 19.79it/s]\n"
     ]
    },
    {
     "name": "stdout",
     "output_type": "stream",
     "text": [
      "Epoch 7/20, train_loss: 5.7194, test_loss: 4.4998, f1: 0.2379, precision: 0.1761, recall: 0.4976\n"
     ]
    },
    {
     "name": "stderr",
     "output_type": "stream",
     "text": [
      "100%|██████████| 98/98 [00:05<00:00, 19.29it/s]\n"
     ]
    },
    {
     "name": "stdout",
     "output_type": "stream",
     "text": [
      "Epoch 8/20, train_loss: 2.1046, test_loss: 4.5230, f1: 0.2539, precision: 0.1897, recall: 0.4965\n"
     ]
    },
    {
     "name": "stderr",
     "output_type": "stream",
     "text": [
      "100%|██████████| 98/98 [00:04<00:00, 23.98it/s]\n"
     ]
    },
    {
     "name": "stdout",
     "output_type": "stream",
     "text": [
      "Epoch 9/20, train_loss: 0.9785, test_loss: 4.8505, f1: 0.2521, precision: 0.1896, recall: 0.4937\n"
     ]
    },
    {
     "name": "stderr",
     "output_type": "stream",
     "text": [
      "100%|██████████| 98/98 [00:09<00:00, 10.31it/s]\n"
     ]
    },
    {
     "name": "stdout",
     "output_type": "stream",
     "text": [
      "Epoch 10/20, train_loss: 3.6563, test_loss: 4.9832, f1: 0.2715, precision: 0.2085, recall: 0.5105\n"
     ]
    },
    {
     "name": "stderr",
     "output_type": "stream",
     "text": [
      "100%|██████████| 98/98 [00:04<00:00, 21.77it/s]\n"
     ]
    },
    {
     "name": "stdout",
     "output_type": "stream",
     "text": [
      "Epoch 11/20, train_loss: 5.0463, test_loss: 5.1955, f1: 0.2707, precision: 0.2077, recall: 0.5075\n"
     ]
    },
    {
     "name": "stderr",
     "output_type": "stream",
     "text": [
      "100%|██████████| 98/98 [00:06<00:00, 15.61it/s]\n"
     ]
    },
    {
     "name": "stdout",
     "output_type": "stream",
     "text": [
      "Epoch 12/20, train_loss: 2.1962, test_loss: 5.4036, f1: 0.2558, precision: 0.1898, recall: 0.5044\n"
     ]
    },
    {
     "name": "stderr",
     "output_type": "stream",
     "text": [
      "100%|██████████| 98/98 [00:07<00:00, 13.55it/s]\n"
     ]
    },
    {
     "name": "stdout",
     "output_type": "stream",
     "text": [
      "Epoch 13/20, train_loss: 3.2847, test_loss: 5.5220, f1: 0.2562, precision: 0.1982, recall: 0.4907\n"
     ]
    },
    {
     "name": "stderr",
     "output_type": "stream",
     "text": [
      "100%|██████████| 98/98 [00:04<00:00, 22.40it/s]\n"
     ]
    },
    {
     "name": "stdout",
     "output_type": "stream",
     "text": [
      "Epoch 14/20, train_loss: 9.2493, test_loss: 4.9956, f1: 0.2490, precision: 0.1848, recall: 0.4935\n"
     ]
    },
    {
     "name": "stderr",
     "output_type": "stream",
     "text": [
      "100%|██████████| 98/98 [00:04<00:00, 19.67it/s]\n"
     ]
    },
    {
     "name": "stdout",
     "output_type": "stream",
     "text": [
      "Epoch 15/20, train_loss: 3.1348, test_loss: 5.5437, f1: 0.2662, precision: 0.1999, recall: 0.5143\n"
     ]
    },
    {
     "name": "stderr",
     "output_type": "stream",
     "text": [
      "100%|██████████| 98/98 [00:06<00:00, 15.23it/s]\n"
     ]
    },
    {
     "name": "stdout",
     "output_type": "stream",
     "text": [
      "Epoch 16/20, train_loss: 3.1958, test_loss: 5.7979, f1: 0.2662, precision: 0.1984, recall: 0.5096\n"
     ]
    },
    {
     "name": "stderr",
     "output_type": "stream",
     "text": [
      "100%|██████████| 98/98 [00:05<00:00, 18.62it/s]\n"
     ]
    },
    {
     "name": "stdout",
     "output_type": "stream",
     "text": [
      "Epoch 17/20, train_loss: 3.6816, test_loss: 5.1939, f1: 0.2583, precision: 0.1941, recall: 0.4927\n"
     ]
    },
    {
     "name": "stderr",
     "output_type": "stream",
     "text": [
      "100%|██████████| 98/98 [00:06<00:00, 15.05it/s]\n"
     ]
    },
    {
     "name": "stdout",
     "output_type": "stream",
     "text": [
      "Epoch 18/20, train_loss: 5.8970, test_loss: 5.7437, f1: 0.2610, precision: 0.1963, recall: 0.4867\n"
     ]
    },
    {
     "name": "stderr",
     "output_type": "stream",
     "text": [
      "100%|██████████| 98/98 [00:04<00:00, 20.49it/s]\n"
     ]
    },
    {
     "name": "stdout",
     "output_type": "stream",
     "text": [
      "Epoch 19/20, train_loss: 3.2530, test_loss: 5.8220, f1: 0.2520, precision: 0.1876, recall: 0.4878\n"
     ]
    },
    {
     "name": "stderr",
     "output_type": "stream",
     "text": [
      "100%|██████████| 98/98 [00:06<00:00, 16.06it/s]\n"
     ]
    },
    {
     "name": "stdout",
     "output_type": "stream",
     "text": [
      "Epoch 20/20, train_loss: 3.8609, test_loss: 6.2580, f1: 0.2637, precision: 0.1999, recall: 0.4960\n"
     ]
    }
   ],
   "source": [
    "from tqdm import tqdm\n",
    "from torchmetrics.classification import MultilabelF1Score, MultilabelPrecision, MultilabelRecall\n",
    "\n",
    "num_labels = genre.shape[1]\n",
    "\n",
    "device = torch.device(\"cuda:0\" if torch.cuda.is_available() else \"cpu\")\n",
    "model.to(device)\n",
    "\n",
    "history = {'train_loss': [], 'test_loss': []}\n",
    "f1_score = {'train': [], 'test': []}\n",
    "\n",
    "f1 = MultilabelF1Score(num_labels=num_labels, threshold=0.5, average='macro')\n",
    "f1 = f1.to(device)\n",
    "precision = MultilabelPrecision(num_labels=num_labels, threshold=0.5, average='macro')\n",
    "precision = precision.to(device)\n",
    "recall = MultilabelRecall(num_labels=num_labels, threshold=0.5, average='macro')\n",
    "recall = recall.to(device)\n",
    "\n",
    "def test(model):\n",
    "    model.eval()\n",
    "    test_loss = 0\n",
    "    f1_all = 0\n",
    "    precision_all = 0\n",
    "    recall_all = 0\n",
    "\n",
    "    with torch.no_grad():\n",
    "        for title, img, genre in test_loader:\n",
    "            title, img, genre = title.to(device), img.to(device), genre.to(device)\n",
    "            outputs = model(title, img)\n",
    "            loss = criterion(outputs, genre)\n",
    "            test_loss += loss.item()\n",
    "            \n",
    "            f1_all += f1(outputs, genre)\n",
    "            precision_all += precision(outputs, genre)\n",
    "            recall_all += recall(outputs, genre)\n",
    "\n",
    "    test_loss /= len(test_loader)\n",
    "    f1_all /= len(test_loader)\n",
    "    precision_all /= len(test_loader)\n",
    "    recall_all /= len(test_loader)\n",
    "\n",
    "    return test_loss, f1_all, precision_all, recall_all\n",
    "\n",
    "num_epochs = 20\n",
    "\n",
    "for epoch in range(num_epochs):\n",
    "    model.train()\n",
    "    for idx, (title, img, genre) in enumerate(tqdm(train_loader)):\n",
    "        title, img, genre = title.to(device), img.to(device), genre.to(device)\n",
    "        optimizer.zero_grad()\n",
    "        outputs = model(title, img)\n",
    "        loss = criterion(outputs, genre)\n",
    "        loss.backward()\n",
    "        optimizer.step()\n",
    "\n",
    "    train_loss = loss.item()\n",
    "    test_loss, f1_all, precision_all, recall_all = test(model)\n",
    "\n",
    "    history['train_loss'].append(train_loss)\n",
    "    history['test_loss'].append(test_loss)\n",
    "\n",
    "    print(f'Epoch {epoch+1}/{num_epochs}, train_loss: {train_loss:.4f}, test_loss: {test_loss:.4f}, f1: {f1_all:.4f}, precision: {precision_all:.4f}, recall: {recall_all:.4f}')"
   ]
  },
  {
   "cell_type": "code",
   "execution_count": 7,
   "metadata": {},
   "outputs": [
    {
     "name": "stdout",
     "output_type": "stream",
     "text": [
      "[0]\tvalidation_0-logloss:0.61024\tvalidation_1-logloss:0.62060\n",
      "[10]\tvalidation_0-logloss:0.22298\tvalidation_1-logloss:0.30378\n",
      "[20]\tvalidation_0-logloss:0.10211\tvalidation_1-logloss:0.22311\n",
      "[30]\tvalidation_0-logloss:0.05415\tvalidation_1-logloss:0.20117\n",
      "[40]\tvalidation_0-logloss:0.03276\tvalidation_1-logloss:0.19869\n",
      "[50]\tvalidation_0-logloss:0.02214\tvalidation_1-logloss:0.20182\n",
      "[57]\tvalidation_0-logloss:0.01776\tvalidation_1-logloss:0.20502\n"
     ]
    },
    {
     "name": "stderr",
     "output_type": "stream",
     "text": [
      "C:\\Users\\lg\\AppData\\Local\\Temp\\ipykernel_19560\\2628080027.py:29: UserWarning: To copy construct from a tensor, it is recommended to use sourceTensor.clone().detach() or sourceTensor.clone().detach().requires_grad_(True), rather than torch.tensor(sourceTensor).\n",
      "  y_test = torch.tensor(y_test)\n"
     ]
    },
    {
     "name": "stdout",
     "output_type": "stream",
     "text": [
      "tensor(0.2829)\n",
      "tensor(0.4814)\n",
      "tensor(0.2246)\n"
     ]
    }
   ],
   "source": [
    "from xgboost import XGBClassifier\n",
    "from torchmetrics.classification import MultilabelF1Score\n",
    "import torch\n",
    "from sklearn.preprocessing import StandardScaler\n",
    "\n",
    "X_train = []\n",
    "y_train = []\n",
    "for title, img, genre in train_data:\n",
    "    X_train.append(torch.cat([title, img], dim=0))\n",
    "    y_train.append(genre)\n",
    "\n",
    "X_train = torch.stack(X_train)\n",
    "y_train = torch.stack(y_train)\n",
    "\n",
    "X_test = []\n",
    "y_test = []\n",
    "for title, img, genre in test_data:\n",
    "    X_test.append(torch.cat([title, img], dim=0))\n",
    "    y_test.append(genre)\n",
    "\n",
    "X_test = torch.stack(X_test)\n",
    "y_test = torch.stack(y_test)\n",
    "\n",
    "clf = XGBClassifier(n_estimators=200, tree_method='hist', eta=0.1, early_stopping_rounds=20, max_depth=15)\n",
    "clf.fit(X_train, y_train, eval_set=[(X_train, y_train), (X_test, y_test)], verbose=10)\n",
    "\n",
    "y_pred = clf.predict(X_test)\n",
    "y_pred = torch.tensor(y_pred)\n",
    "y_test = torch.tensor(y_test)\n",
    "f1 = MultilabelF1Score(num_labels=num_labels, threshold=0.5, average='macro')\n",
    "precision = MultilabelPrecision(num_labels=num_labels, threshold=0.5, average='macro')\n",
    "recall = MultilabelRecall(num_labels=num_labels, threshold=0.5, average='macro')\n",
    "print(f1(y_pred, y_test))\n",
    "print(precision(y_pred, y_test))\n",
    "print(recall(y_pred, y_test))"
   ]
  },
  {
   "cell_type": "code",
   "execution_count": 9,
   "metadata": {},
   "outputs": [
    {
     "data": {
      "image/png": "[encoded data removed]",
      "text/plain": [
       "<Figure size 640x480 with 1 Axes>"
      ]
     },
     "metadata": {},
     "output_type": "display_data"
    }
   ],
   "source": [
    "from matplotlib import pyplot as plt\n",
    "plt.plot(history['train_loss'], label='train_loss')\n",
    "plt.plot(history['test_loss'], label='test_loss')\n",
    "plt.legend()\n",
    "plt.show()"
   ]
  },
  {
   "cell_type": "code",
   "execution_count": null,
   "metadata": {},
   "outputs": [],
   "source": []
  }
 ],
 "metadata": {
  "kernelspec": {
   "display_name": "base",
   "language": "python",
   "name": "python3"
  },
  "language_info": {
   "codemirror_mode": {
    "name": "ipython",
    "version": 3
   },
   "file_extension": ".py",
   "mimetype": "text/x-python",
   "name": "python",
   "nbconvert_exporter": "python",
   "pygments_lexer": "ipython3",
   "version": "3.9.18"
  }
 },
 "nbformat": 4,
 "nbformat_minor": 2
}
